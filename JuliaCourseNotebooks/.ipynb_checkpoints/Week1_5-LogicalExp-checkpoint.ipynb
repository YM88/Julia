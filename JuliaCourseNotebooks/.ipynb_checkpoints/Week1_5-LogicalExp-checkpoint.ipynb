{
 "cells": [
  {
   "cell_type": "code",
   "execution_count": 17,
   "metadata": {},
   "outputs": [
    {
     "data": {
      "text/html": [
       "<link href='http://fonts.googleapis.com/css?family=Alegreya+Sans:100,300,400,500,700,800,900,100italic,300italic,400italic,500italic,700italic,800italic,900italic' rel='stylesheet' type='text/css'>\n",
       "<link href='http://fonts.googleapis.com/css?family=Arvo:400,700,400italic' rel='stylesheet' type='text/css'>\n",
       "<link href='http://fonts.googleapis.com/css?family=PT+Mono' rel='stylesheet' type='text/css'>\n",
       "<link href='http://fonts.googleapis.com/css?family=Shadows+Into+Light' rel='stylesheet' type='text/css'>\n",
       "<link href='http://fonts.googleapis.com/css?family=Philosopher:400,700,400italic,700italic' rel='stylesheet' type='text/css'>\n",
       "\n",
       "<style>\n",
       "\n",
       "@font-face {\n",
       "    font-family: \"Computer Modern\";\n",
       "    src: url('http://mirrors.ctan.org/fonts/cm-unicode/fonts/otf/cmunss.otf');\n",
       "}\n",
       "\n",
       "#notebook_panel { /* main background */\n",
       "    background: #ddd;\n",
       "    color: #000000;\n",
       "}\n",
       "\n",
       "\n",
       "\n",
       "/* Formatting for header cells */\n",
       ".text_cell_render h1 {\n",
       "    font-family: 'Philosopher', sans-serif;\n",
       "    font-weight: 400;\n",
       "    font-size: 2.2em;\n",
       "    line-height: 100%;\n",
       "    color: rgb(0, 80, 120);\n",
       "    margin-bottom: 0.1em;\n",
       "    margin-top: 0.1em;\n",
       "    display: block;\n",
       "}\t\n",
       ".text_cell_render h2 {\n",
       "    font-family: 'Philosopher', serif;\n",
       "    font-weight: 400;\n",
       "    font-size: 1.9em;\n",
       "    line-height: 100%;\n",
       "    color: rgb(200,100,0);\n",
       "    margin-bottom: 0.1em;\n",
       "    margin-top: 0.1em;\n",
       "    display: block;\n",
       "}\t\n",
       "\n",
       ".text_cell_render h3 {\n",
       "    font-family: 'Philosopher', serif;\n",
       "    margin-top:12px;\n",
       "    margin-bottom: 3px;\n",
       "    font-style: italic;\n",
       "    color: rgb(94,127,192);\n",
       "}\n",
       "\n",
       ".text_cell_render h4 {\n",
       "    font-family: 'Philosopher', serif;\n",
       "}\n",
       "\n",
       ".text_cell_render h5 {\n",
       "    font-family: 'Alegreya Sans', sans-serif;\n",
       "    font-weight: 300;\n",
       "    font-size: 16pt;\n",
       "    color: grey;\n",
       "    font-style: italic;\n",
       "    margin-bottom: .1em;\n",
       "    margin-top: 0.1em;\n",
       "    display: block;\n",
       "}\n",
       "\n",
       ".text_cell_render h6 {\n",
       "    font-family: 'PT Mono', sans-serif;\n",
       "    font-weight: 300;\n",
       "    font-size: 10pt;\n",
       "    color: grey;\n",
       "    margin-bottom: 1px;\n",
       "    margin-top: 1px;\n",
       "}\n",
       "\n",
       ".CodeMirror{\n",
       "        font-family: \"PT Mono\";\n",
       "        font-size: 100%;\n",
       "}\n",
       "\n",
       "</style>\n",
       "\n"
      ],
      "text/plain": [
       "HTML{ASCIIString}(\"<link href='http://fonts.googleapis.com/css?family=Alegreya+Sans:100,300,400,500,700,800,900,100italic,300italic,400italic,500italic,700italic,800italic,900italic' rel='stylesheet' type='text/css'>\\n<link href='http://fonts.googleapis.com/css?family=Arvo:400,700,400italic' rel='stylesheet' type='text/css'>\\n<link href='http://fonts.googleapis.com/css?family=PT+Mono' rel='stylesheet' type='text/css'>\\n<link href='http://fonts.googleapis.com/css?family=Shadows+Into+Light' rel='stylesheet' type='text/css'>\\n<link href='http://fonts.googleapis.com/css?family=Philosopher:400,700,400italic,700italic' rel='stylesheet' type='text/css'>\\n\\n<style>\\n\\n@font-face {\\n    font-family: \\\"Computer Modern\\\";\\n    src: url('http://mirrors.ctan.org/fonts/cm-unicode/fonts/otf/cmunss.otf');\\n}\\n\\n#notebook_panel { /* main background */\\n    background: #ddd;\\n    color: #000000;\\n}\\n\\n\\n\\n/* Formatting for header cells */\\n.text_cell_render h1 {\\n    font-family: 'Philosopher', sans-serif;\\n    font-weight: 400;\\n    font-size: 2.2em;\\n    line-height: 100%;\\n    color: rgb(0, 80, 120);\\n    margin-bottom: 0.1em;\\n    margin-top: 0.1em;\\n    display: block;\\n}\\t\\n.text_cell_render h2 {\\n    font-family: 'Philosopher', serif;\\n    font-weight: 400;\\n    font-size: 1.9em;\\n    line-height: 100%;\\n    color: rgb(200,100,0);\\n    margin-bottom: 0.1em;\\n    margin-top: 0.1em;\\n    display: block;\\n}\\t\\n\\n.text_cell_render h3 {\\n    font-family: 'Philosopher', serif;\\n    margin-top:12px;\\n    margin-bottom: 3px;\\n    font-style: italic;\\n    color: rgb(94,127,192);\\n}\\n\\n.text_cell_render h4 {\\n    font-family: 'Philosopher', serif;\\n}\\n\\n.text_cell_render h5 {\\n    font-family: 'Alegreya Sans', sans-serif;\\n    font-weight: 300;\\n    font-size: 16pt;\\n    color: grey;\\n    font-style: italic;\\n    margin-bottom: .1em;\\n    margin-top: 0.1em;\\n    display: block;\\n}\\n\\n.text_cell_render h6 {\\n    font-family: 'PT Mono', sans-serif;\\n    font-weight: 300;\\n    font-size: 10pt;\\n    color: grey;\\n    margin-bottom: 1px;\\n    margin-top: 1px;\\n}\\n\\n.CodeMirror{\\n        font-family: \\\"PT Mono\\\";\\n        font-size: 100%;\\n}\\n\\n</style>\\n\\n\")"
      ]
     },
     "execution_count": 17,
     "metadata": {},
     "output_type": "execute_result"
    }
   ],
   "source": [
    "# Setting up a custom stylesheet in IJulia\n",
    "file = open(\"style.css\") # A .css file in the same folder as this notebook file\n",
    "styl = readall(file) # Read the file\n",
    "HTML(\"$styl\") # Output as HTML"
   ]
  },
  {
   "cell_type": "markdown",
   "metadata": {},
   "source": [
    "# Logical expressions"
   ]
  },
  {
   "cell_type": "markdown",
   "metadata": {},
   "source": [
    "<h2>In this lecture</h2>\n",
    "\n",
    "- [Outcome](#Outcome)\n",
    "- [Computer logic](#Computer-logic)\n",
    "- [The keywords \"true\" and \"false\"](#The-keywords-\"true\"-and-\"false\")\n",
    "- [Logical operators and logical expressions](#Logical-operators-and-logical-expressions)\n",
    "- [Comparison operators create \"true\" or \"false\"](#Comparison-operators-create-\"true\"-or-\"false\")\n",
    "- [Operator precedence for logical expressions](#Operator-precedence-for-logical-expressions)"
   ]
  },
  {
   "cell_type": "markdown",
   "metadata": {},
   "source": [
    "<hr>\n",
    "<h2>Outcome</h2>\n",
    "\n",
    "After this lecture, you will be able to: \n",
    "\n",
    "- Say what computer logic is\n",
    "- Explain the role of \"true\" and \"false\" in Julia\n",
    "- Form logical expressions using !, && and ||\n",
    "- State the order of preference of Julia's elementary arithmetical operators\n",
    "- Work out exactly how Julia would evalutate an logical expression"
   ]
  },
  {
   "cell_type": "markdown",
   "metadata": {},
   "source": [
    "[Back to the top](#In-this-lecture)"
   ]
  },
  {
   "cell_type": "markdown",
   "metadata": {},
   "source": [
    "<h2>Computer logic</h2>\n",
    "\n",
    "Logic is the study of how to transform true sentences into other true sentences.\n",
    "\n",
    "Famous example 1: Socrates is a man. All men are mortal. Therefore Socrates is mortal.\n",
    "\n",
    "Famous example 2: If it rains, the grass is wet. It is raining. Therefore the grass is wet.\n",
    "\n",
    "This rigid and formal way of working may appear to be inadequate, but computer programs cannot do otherwise.\n",
    "\n",
    "In fact, computer logic is even more limited than the famous examples above: it can only evaluate logical expressions."
   ]
  },
  {
   "cell_type": "markdown",
   "metadata": {},
   "source": [
    "[Back to the top](#In-this-lecture)"
   ]
  },
  {
   "cell_type": "markdown",
   "metadata": {},
   "source": [
    "<h2>The keywords \"true\" and \"false\"</h2>\n",
    "\n",
    "In Julia, there are only two logical values: \"true\" and \"false\". They are Julia language keywords, which means their meaning is fixed and they can be used for no other purpose.\n",
    "\n",
    "The meaning they have in Julia is pretty much the meaning they have in ordinary human life.\n"
   ]
  },
  {
   "cell_type": "markdown",
   "metadata": {},
   "source": [
    "[Back to the top](#In-this-lecture)"
   ]
  },
  {
   "cell_type": "markdown",
   "metadata": {},
   "source": [
    "<h2>Logical operators and logical expressions</h2>\n",
    "\n",
    "Julia has quite a few logical operators (as do computers languages in general). But three of them are more important than the rest: !, && and ||\n",
    "\n",
    "- ! is the NOT operator\n",
    "- && is the AND operator\n",
    "- || is the OR operator\n",
    "\n",
    "The ! operator changes the truth of whatever it is applied to."
   ]
  },
  {
   "cell_type": "code",
   "execution_count": 1,
   "metadata": {
    "ExecuteTime": {
     "end_time": "2020-04-20T10:33:11.020000-04:00",
     "start_time": "2020-04-20T14:32:32.865Z"
    }
   },
   "outputs": [
    {
     "data": {
      "text/plain": [
       "false"
      ]
     },
     "execution_count": 1,
     "metadata": {},
     "output_type": "execute_result"
    }
   ],
   "source": [
    "!true         # NOT true is of course false"
   ]
  },
  {
   "cell_type": "code",
   "execution_count": 2,
   "metadata": {
    "ExecuteTime": {
     "end_time": "2020-04-20T10:33:11.197000-04:00",
     "start_time": "2020-04-20T14:32:52.667Z"
    }
   },
   "outputs": [
    {
     "data": {
      "text/plain": [
       "true"
      ]
     },
     "execution_count": 2,
     "metadata": {},
     "output_type": "execute_result"
    }
   ],
   "source": [
    "!false       # likewise, NOT false is true"
   ]
  },
  {
   "cell_type": "markdown",
   "metadata": {},
   "source": [
    "The other two operators combine two logical values, let's call them p and q. They could be something like \"Socrates is a man\" for p and \"Socrates is mortal\" for q. \n",
    "\n",
    "The && operator makes a compound statement that is true if and only if both parts are true."
   ]
  },
  {
   "cell_type": "code",
   "execution_count": 3,
   "metadata": {
    "ExecuteTime": {
     "end_time": "2020-04-20T10:33:19.590000-04:00",
     "start_time": "2020-04-20T14:33:19.494Z"
    }
   },
   "outputs": [
    {
     "data": {
      "text/plain": [
       "true"
      ]
     },
     "execution_count": 3,
     "metadata": {},
     "output_type": "execute_result"
    }
   ],
   "source": [
    "true && true       # compound statement: for p AND q to be true, p must be true, q must also be true"
   ]
  },
  {
   "cell_type": "code",
   "execution_count": 4,
   "metadata": {
    "ExecuteTime": {
     "end_time": "2020-04-20T10:33:20.148000-04:00",
     "start_time": "2020-04-20T14:33:20.143Z"
    }
   },
   "outputs": [
    {
     "data": {
      "text/plain": [
       "false"
      ]
     },
     "execution_count": 4,
     "metadata": {},
     "output_type": "execute_result"
    }
   ],
   "source": [
    "false && true      # so if one part of an AND compound is false, the compound as a whole is false"
   ]
  },
  {
   "cell_type": "code",
   "execution_count": 5,
   "metadata": {
    "ExecuteTime": {
     "end_time": "2020-04-20T10:33:21.812000-04:00",
     "start_time": "2020-04-20T14:33:21.807Z"
    }
   },
   "outputs": [
    {
     "data": {
      "text/plain": [
       "false"
      ]
     },
     "execution_count": 5,
     "metadata": {},
     "output_type": "execute_result"
    }
   ],
   "source": [
    "true && false      # it doesn't matter which of the logical values comes first"
   ]
  },
  {
   "cell_type": "code",
   "execution_count": 6,
   "metadata": {
    "ExecuteTime": {
     "end_time": "2020-04-20T10:33:22.055000-04:00",
     "start_time": "2020-04-20T14:33:22.052Z"
    }
   },
   "outputs": [
    {
     "data": {
      "text/plain": [
       "false"
      ]
     },
     "execution_count": 6,
     "metadata": {},
     "output_type": "execute_result"
    }
   ],
   "source": [
    "false && false      # obviously this must be false"
   ]
  },
  {
   "cell_type": "markdown",
   "metadata": {},
   "source": [
    "The || operator needs only one of the parts to be true. Clearly \"Black is red OR Julia is a language\" is true, but \"1 and 1 is seventy OR 10 divided by 2 is zero\" is false.\n",
    "\n",
    "In other words, the || operator makes a compound statement that is false if and only if both parts are false."
   ]
  },
  {
   "cell_type": "code",
   "execution_count": 7,
   "metadata": {
    "ExecuteTime": {
     "end_time": "2020-04-20T10:33:28.145000-04:00",
     "start_time": "2020-04-20T14:33:28.142Z"
    }
   },
   "outputs": [
    {
     "data": {
      "text/plain": [
       "true"
      ]
     },
     "execution_count": 7,
     "metadata": {},
     "output_type": "execute_result"
    }
   ],
   "source": [
    "true || true       # compound statement: for p OR q to be true, one of them has to be true"
   ]
  },
  {
   "cell_type": "code",
   "execution_count": 8,
   "metadata": {
    "ExecuteTime": {
     "end_time": "2020-04-20T10:33:32.093000-04:00",
     "start_time": "2020-04-20T14:33:32.090Z"
    }
   },
   "outputs": [
    {
     "data": {
      "text/plain": [
       "true"
      ]
     },
     "execution_count": 8,
     "metadata": {},
     "output_type": "execute_result"
    }
   ],
   "source": [
    "false || true       # so if either part is true, the compound statement is true"
   ]
  },
  {
   "cell_type": "code",
   "execution_count": 9,
   "metadata": {
    "ExecuteTime": {
     "end_time": "2020-04-20T10:33:32.561000-04:00",
     "start_time": "2020-04-20T14:33:32.557Z"
    }
   },
   "outputs": [
    {
     "data": {
      "text/plain": [
       "true"
      ]
     },
     "execution_count": 9,
     "metadata": {},
     "output_type": "execute_result"
    }
   ],
   "source": [
    "true || false       # still true"
   ]
  },
  {
   "cell_type": "code",
   "execution_count": 10,
   "metadata": {
    "ExecuteTime": {
     "end_time": "2020-04-20T10:33:34.390000-04:00",
     "start_time": "2020-04-20T14:33:34.385Z"
    }
   },
   "outputs": [
    {
     "data": {
      "text/plain": [
       "false"
      ]
     },
     "execution_count": 10,
     "metadata": {},
     "output_type": "execute_result"
    }
   ],
   "source": [
    "false || false     # compound with OR: both parts false means the compound is false."
   ]
  },
  {
   "cell_type": "markdown",
   "metadata": {},
   "source": [
    "In real life, we often reason like this: \"Either the train is late or the station clock is wrong\". We would then hope to eliminate one of them by showing it is false so the other one is what we go by. For this to work, at least one of them must be true.\n",
    "\n",
    "That is, we reason correctly only in the case that they are not both false. But this is exactly the definition given above: the || operator \n",
    "makes a compound statement that is false if and only if both parts are false."
   ]
  },
  {
   "cell_type": "markdown",
   "metadata": {},
   "source": [
    "[Back to the top](#In-this-lecture)"
   ]
  },
  {
   "cell_type": "markdown",
   "metadata": {},
   "source": [
    "<h2>Comparison operators create \"true\" or \"false\"</h2>\n",
    "\n",
    "The basic comparison operators are <, == and >. (NB! Note particularly the == operator!). "
   ]
  },
  {
   "cell_type": "code",
   "execution_count": 11,
   "metadata": {
    "ExecuteTime": {
     "end_time": "2020-04-20T10:33:45.480000-04:00",
     "start_time": "2020-04-20T14:33:45.257Z"
    }
   },
   "outputs": [
    {
     "data": {
      "text/plain": [
       "true"
      ]
     },
     "execution_count": 11,
     "metadata": {},
     "output_type": "execute_result"
    }
   ],
   "source": [
    "1 < 22    # this is obviously true"
   ]
  },
  {
   "cell_type": "code",
   "execution_count": 12,
   "metadata": {
    "ExecuteTime": {
     "end_time": "2020-04-20T10:33:48.499000-04:00",
     "start_time": "2020-04-20T14:33:48.494Z"
    }
   },
   "outputs": [
    {
     "data": {
      "text/plain": [
       "false"
      ]
     },
     "execution_count": 12,
     "metadata": {},
     "output_type": "execute_result"
    }
   ],
   "source": [
    "-10 > 3    # this is obviously false"
   ]
  },
  {
   "cell_type": "code",
   "execution_count": 13,
   "metadata": {
    "ExecuteTime": {
     "end_time": "2020-04-20T10:33:51.205000-04:00",
     "start_time": "2020-04-20T14:33:51.188Z"
    }
   },
   "outputs": [
    {
     "data": {
      "text/plain": [
       "true"
      ]
     },
     "execution_count": 13,
     "metadata": {},
     "output_type": "execute_result"
    }
   ],
   "source": [
    "2 == 4-2    # this is obviously true"
   ]
  },
  {
   "cell_type": "markdown",
   "metadata": {},
   "source": [
    " These operators are used all the time in writing programs. You have to learn them very well!"
   ]
  },
  {
   "cell_type": "markdown",
   "metadata": {},
   "source": [
    "[Back to the top](#In-this-lecture)"
   ]
  },
  {
   "cell_type": "markdown",
   "metadata": {
    "collapsed": true
   },
   "source": [
    "<h2>Operator precedence for logical expressions</h2>\n",
    "\n",
    "If you write computer code, you will often have to construct logical expressions very similar to the example of \"one plus one is seventy OR 10 divided by 2 is zero\". Here is a longer example:\n",
    "\n",
    "3-4 > 1 && 2 + 2 == 4 || 10 - 5 > 2    \n",
    "\n",
    "This is an example of what can make things hard in computer programming****. As before, in Julia this expression can mean only one thing.\n",
    "\n",
    "\n",
    "****I said learning to program in Julia is easy, and it is. But any computer language can be used to make easy things hard. Even Julia!"
   ]
  },
  {
   "cell_type": "code",
   "execution_count": 14,
   "metadata": {
    "ExecuteTime": {
     "end_time": "2020-04-20T10:34:19.213000-04:00",
     "start_time": "2020-04-20T14:34:18.880Z"
    }
   },
   "outputs": [
    {
     "data": {
      "text/plain": [
       "true"
      ]
     },
     "execution_count": 14,
     "metadata": {},
     "output_type": "execute_result"
    }
   ],
   "source": [
    "( 3-4 > 1 ) && ( 2+2 == 4 ) || ( 10-5 > 2 )    # This is how Julia reads the expression above \n",
    "#                                           ... and it is how you should write it!! \n",
    "#        Arithmetic operators have higher precedence than logical operators; comparisons "
   ]
  },
  {
   "cell_type": "code",
   "execution_count": 15,
   "metadata": {
    "ExecuteTime": {
     "end_time": "2020-04-20T10:35:08.613000-04:00",
     "start_time": "2020-04-20T14:35:08.463Z"
    }
   },
   "outputs": [
    {
     "data": {
      "text/plain": [
       "true"
      ]
     },
     "execution_count": 15,
     "metadata": {},
     "output_type": "execute_result"
    }
   ],
   "source": [
    "#  Here's the above just in terms of its logical values\n",
    "false      &&   true       ||  true           # false whether read from left or right"
   ]
  },
  {
   "cell_type": "markdown",
   "metadata": {
    "collapsed": true
   },
   "source": [
    "<h3>Bug-hunting tip: watch out for & and | when you mean && and ||</h3>\n",
    "\n",
    "The operators && and || are *Boolean operators*: they work on expressions that are true or false. But there are two more operators, not covered in this course, namely & and |. Quite often, if you use & where you intend &&, the result will appear to be the same, but beware, they are not the same thing at all.\n",
    "\n",
    "& is the \"bitwise AND\" operator and works on pairs of integers (actually, on the integers expressed in binary digits). Similarly, | is \"bitwise OR\" and likewise works on integer values. \n",
    "\n",
    "As you can imagine, spotting that you used \"&\" where you should have used \"&&\" can be a very hard bug to find. The same goes for cases where you used \"|\" and you should have used \"||\".\n",
    "\n",
    "In Julia the type system prevents many but not all of these problems, so when your code is returning strange values but no errors, be aware of the bitwise-for-Boolean bug!\n"
   ]
  },
  {
   "cell_type": "markdown",
   "metadata": {},
   "source": [
    "### Note on logical expressions operator precedence\n",
    "\n",
    "We should note that Julia goes one step further than simply interpreting \"&&\" and \"||\" logically, for the sake of efficient computation, by adopting what is called short-circuit evaluation of logical expressions. This takes advantage of the fact that an expression starting with \"false &&\" can never be true, and likewise starting with \"true ||\" an expression can never be false. Whenever such a situation is reached in a Julia computation, evaluation of the expression is stopped. That is, suppose we reach the code snippet \"true  || p1(x) \", then the function call p1(x) in the second half is never evaluated, because the expression is necessarily true. An example is \"true || sin(1.0)\", which returns the value \"true\". No free lunch: the efficiency gain comes at the price of making what appears to be a simple logical expression into a control structure. If we modify the code above to read \"true && p1(x)\" then the function p1(x) is executed, and (in Julia but not in all languages using short-circuit evaluation) its value is returned. For example, the code snippets \"false || sin(1.0)\" and \"true && sin(1.0)\" both return 0.8414709848078965, because in both cases because there is no short-circuit evaluation possible.\n",
    "\n",
    "Note that the event of returning a value generated by a function applies only to the very last item in a chain of logical operators, for example, \"p1(x)\" is the value returned by the the snippet  \" ... || p1(x)\",  where the dots stand for a long chain of operators which could not be short-circuited and which up to that point evaluated to \"false\" (similarly for \"... && p1(x)\" where the chain represented by the dots evaluates to \"true\"). This works perfectly also when \"p1(x)\" returns a truth value.\n",
    "\n",
    "Also note that short-circuit is so powerful that the precedence noted in the manual, namely the fact that \"&&\" is followed by \"||\", is not particularly important---the vast majority of cases are settled by short-circuit evaluation."
   ]
  },
  {
   "cell_type": "markdown",
   "metadata": {},
   "source": [
    "[Back to the top](#In-this-lecture)"
   ]
  }
 ],
 "metadata": {
  "kernelspec": {
   "display_name": "Julia 1.4.1",
   "language": "julia",
   "name": "julia-1.4"
  },
  "language_info": {
   "file_extension": ".jl",
   "mimetype": "application/julia",
   "name": "julia",
   "version": "1.4.1"
  },
  "varInspector": {
   "cols": {
    "lenName": 16,
    "lenType": 16,
    "lenVar": 40
   },
   "kernels_config": {
    "python": {
     "delete_cmd_postfix": "",
     "delete_cmd_prefix": "del ",
     "library": "var_list.py",
     "varRefreshCmd": "print(var_dic_list())"
    },
    "r": {
     "delete_cmd_postfix": ") ",
     "delete_cmd_prefix": "rm(",
     "library": "var_list.r",
     "varRefreshCmd": "cat(var_dic_list()) "
    }
   },
   "types_to_exclude": [
    "module",
    "function",
    "builtin_function_or_method",
    "instance",
    "_Feature"
   ],
   "window_display": false
  }
 },
 "nbformat": 4,
 "nbformat_minor": 1
}
